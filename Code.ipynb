{
 "cells": [
  {
   "cell_type": "markdown",
   "metadata": {},
   "source": [
    "# Group THE BOYS 1D ML project\n",
    "1. Loy Pek Yong 1004475\n",
    "2. Lim Yongqing 1005955\n",
    "\n",
    "\n",
    "# Question 1"
   ]
  },
  {
   "cell_type": "markdown",
   "metadata": {},
   "source": [
    "## Importing libraries + reading data + preprocessing"
   ]
  },
  {
   "cell_type": "code",
   "execution_count": 1,
   "metadata": {},
   "outputs": [
    {
     "name": "stdout",
     "output_type": "stream",
     "text": [
      "1.23.5\n",
      "1.5.3\n"
     ]
    }
   ],
   "source": [
    "# import libraries\n",
    "import pandas as pd\n",
    "import numpy as np\n",
    "print(np.__version__)\n",
    "print(pd.__version__)\n",
    "# read data\n",
    "# ES_train = pd.read_csv(\"./ES/train\", sep=\" \", header=None, names=[\"word\", \"label\"], encoding=\"utf-8\", quoting=3)\n",
    "# ES_dev_in = pd.read_csv(\"./ES/dev.in\", sep=\" \", header=None, names=[\"word\"], encoding=\"utf-8\", quoting=3)\n",
    "# ES_dev_out = pd.read_csv(\"./ES/dev.out\", sep=\" \", header=None, names=[\"word\", \"label\"], encoding=\"utf-8\", quoting=3)\n",
    "\n",
    "# RU_train = pd.read_csv(\"./RU/train\", sep=\" \", header=None, names=[\"word\", \"label\"], encoding=\"utf-8\", quoting=3)\n",
    "# RU_dev_in = pd.read_csv(\"./RU/dev.in\", sep=\" \", header=None, names=[\"word\"], encoding=\"utf-8\", quoting=3)\n",
    "# RU_dev_out = pd.read_csv(\"./RU/dev.out\", sep=\" \", header=None, names=[\"word\", \"label\"], encoding=\"utf-8\", quoting=3)\n",
    "with open('./ES/train', 'r', encoding = 'utf8') as f:\n",
    "    r1 = [lines.rstrip(\"\\n\") for lines in f.readlines()]\n",
    "ES_train_tup = [ (lines.rsplit(\" \", 1)[0], lines.rsplit(\" \", 1)[1]) for lines in r1 if lines != \"\"]\n",
    "\n",
    "with open('./ES/dev.in', 'r', encoding = 'utf8') as f:\n",
    "    r2 = [lines.rstrip(\"\\n\") for lines in f.readlines()]\n",
    "ES_dev_in_tup = [ lines for lines in r2 if lines != \"\"]\n",
    "\n",
    "with open('./ES/dev.out', 'r', encoding = 'utf8') as f:\n",
    "    r3 = [lines.rstrip(\"\\n\") for lines in f.readlines()]\n",
    "ES_dev_out_tup = [ (lines.rsplit(\" \", 1)[0], lines.rsplit(\" \", 1)[1]) for lines in r3 if lines != \"\"]\n",
    "\n",
    "\n",
    "\n",
    "with open('./RU/train', 'r', encoding = 'utf8') as f:\n",
    "    r4 = [lines.rstrip(\"\\n\") for lines in f.readlines()]\n",
    "RU_train_tup = [ (lines.rsplit(\" \", 1)[0], lines.rsplit(\" \", 1)[1]) for lines in r4 if lines != \"\"]\n",
    "\n",
    "with open('./RU/dev.in', 'r', encoding = 'utf8') as f:\n",
    "    r5 = [lines.rstrip(\"\\n\") for lines in f.readlines()]\n",
    "RU_dev_in_tup = [ lines for lines in r5 if lines != \"\"]\n",
    "\n",
    "with open('./RU/dev.out', 'r', encoding = 'utf8') as f:\n",
    "    r6 = [lines.rstrip(\"\\n\") for lines in f.readlines()]\n",
    "RU_dev_out_tup = [ (lines.rsplit(\" \", 1)[0], lines.rsplit(\" \", 1)[1]) for lines in r6 if lines != \"\"]\n"
   ]
  },
  {
   "cell_type": "markdown",
   "metadata": {},
   "source": [
    "## Changing to dataframe"
   ]
  },
  {
   "cell_type": "code",
   "execution_count": 2,
   "metadata": {},
   "outputs": [],
   "source": [
    "ES_train = pd.DataFrame(data = ES_train_tup, columns = [\"word\", \"label\"])\n",
    "ES_dev_in = pd.DataFrame(data = ES_dev_in_tup, columns = [\"word\"])\n",
    "ES_dev_out = pd.DataFrame(data = ES_dev_out_tup, columns = [\"word\", \"label\"])\n",
    "\n",
    "RU_train = pd.DataFrame(data = RU_train_tup, columns = [\"word\", \"label\"])\n",
    "RU_dev_in = pd.DataFrame(data = RU_dev_in_tup, columns = [\"word\"])\n",
    "RU_dev_out = pd.DataFrame(data = RU_dev_out_tup, columns = [\"word\", \"label\"])"
   ]
  },
  {
   "cell_type": "markdown",
   "metadata": {},
   "source": [
    "# Part 1 of q1"
   ]
  },
  {
   "cell_type": "markdown",
   "metadata": {},
   "source": [
    "## function that returns the emission parameters with input of training set"
   ]
  },
  {
   "cell_type": "code",
   "execution_count": 3,
   "metadata": {},
   "outputs": [],
   "source": [
    "def train_estimate_emission_parameters(train):\n",
    "    # word_column = train[\"word\"]\n",
    "    # label_column = train[\"label\"]\n",
    "\n",
    "    label_count = {}\n",
    "    emission_count = {}\n",
    "\n",
    "    for row in range(train.shape[0]):\n",
    "        word = train.iloc[row, 0]\n",
    "        label = train.iloc[row, 1]\n",
    "        if label not in label_count:\n",
    "            label_count[label] = 1\n",
    "        else:\n",
    "            label_count[label] += 1\n",
    "\n",
    "        if (word, label) not in emission_count:\n",
    "            emission_count[(word, label)] = 1\n",
    "        else:\n",
    "            emission_count[(word, label)] += 1\n",
    "\n",
    "    emission_parameter = {}\n",
    "    for word, label in emission_count:\n",
    "        emission_parameter[(word, label)] = emission_count[(word, label)] / label_count[label]\n",
    "\n",
    "    return emission_parameter, emission_count, label_count\n",
    "\n",
    "# debug\n",
    "# emission_parameter, emission_count, label_count = train_estimate_emission_parameters(ES_train)\n",
    "# for i in emission_parameter:\n",
    "#     print(i, emission_parameter[i])"
   ]
  },
  {
   "cell_type": "markdown",
   "metadata": {},
   "source": [
    "# Part 2 of q1"
   ]
  },
  {
   "cell_type": "markdown",
   "metadata": {},
   "source": [
    "## function that returns the emission parameters with input set"
   ]
  },
  {
   "cell_type": "code",
   "execution_count": 4,
   "metadata": {},
   "outputs": [],
   "source": [
    "def upgraded_estimate_emission_parameters(input, emission_parameter, emission_counts, label_counts):\n",
    "    # predict the label of the test set\n",
    "    k = 1\n",
    "    special_word = '#UNK#'    \n",
    "    #train word list is all the first argument in keys of emission counts\n",
    "    train_word_list= [word for word, label in emission_counts.keys()]\n",
    "    for i in range(len(input[\"word\"])):\n",
    "        word = input[\"word\"][i]\n",
    "        if word not in train_word_list:\n",
    "            input[\"word\"][i] = special_word\n",
    "            # k += 1\n",
    "\n",
    "    for word in input[\"word\"]:\n",
    "        for label in label_counts:\n",
    "            if word == special_word:\n",
    "                emission_parameter[(word, label)] = k / (label_counts[label] + k)\n",
    "            else:\n",
    "\n",
    "                if (word, label) in emission_parameter:\n",
    "                    emission_parameter[(word, label)] = emission_counts[(word, label)] / label_counts[label]\n",
    "\n",
    "    return emission_parameter\n",
    "\n",
    "\n",
    "\n",
    "\n"
   ]
  },
  {
   "cell_type": "markdown",
   "metadata": {},
   "source": [
    "# Part 3 of q1"
   ]
  },
  {
   "cell_type": "code",
   "execution_count": 5,
   "metadata": {},
   "outputs": [],
   "source": [
    "def sentiment_analysis(training_set, test_set):\n",
    "    emission_parameter, emission_count, label_count = train_estimate_emission_parameters(training_set)\n",
    "    emission_parameter = upgraded_estimate_emission_parameters(test_set, emission_parameter, emission_count, label_count)\n",
    "    test_set[\"label\"] = \"\"\n",
    "\n",
    "    #label equals to argmax of emission parameter\n",
    "    for row in range(len(test_set)):\n",
    "        word = test_set.iloc[row][\"word\"]\n",
    "        max = 0\n",
    "        max_label = \"\"\n",
    "        for label in label_count:\n",
    "            if (word, label) in emission_parameter:\n",
    "                if emission_parameter[(word, label)] > max:\n",
    "                    max = emission_parameter[(word, label)]\n",
    "                    max_label = label\n",
    "        test_set.loc[row, \"label\"] = max_label\n",
    "                    \n",
    "    \n",
    "    return test_set\n",
    "\n",
    "\n",
    "def precision(predicted, test_set):\n",
    "    # calculate the precision\n",
    "    correct = 0\n",
    "    total = 0\n",
    "    for row in range(len(test_set)):\n",
    "        if test_set.iloc[row][\"label\"] == predicted.iloc[row][\"label\"]:\n",
    "            correct += 1\n",
    "        total += 1\n",
    "    return correct/total if total > 0 else 0\n",
    "\n",
    "def recall(predicted, compare_set):\n",
    "    # calculate the recall\n",
    "    correct = 0\n",
    "    total = 0\n",
    "    for row in range(len(compare_set)):\n",
    "        if compare_set.iloc[row][\"label\"] == predicted.iloc[row][\"label\"]:\n",
    "            correct += 1\n",
    "        total += 1\n",
    "    return correct/total if total > 0 else 0\n",
    "\n",
    "def f1_score(precision, recall):\n",
    "    # calculate the f1 score\n",
    "    return 2*precision*recall/(precision+recall)"
   ]
  },
  {
   "cell_type": "markdown",
   "metadata": {},
   "source": [
    "## Predicting + saving to csv"
   ]
  },
  {
   "cell_type": "code",
   "execution_count": 6,
   "metadata": {},
   "outputs": [],
   "source": [
    "ES_dev_p1_out = sentiment_analysis(ES_train, ES_dev_in)\n",
    "ES_dev_p1_out.to_csv(\"./ES/dev.p1.out\", sep=\" \", header=None, index=False, encoding=\"utf-8\", quoting=3)\n",
    "\n",
    "RU_dev_p1_out = sentiment_analysis(RU_train, RU_dev_in)\n",
    "RU_dev_p1_out.to_csv(\"./RU/dev.p1.out\", sep=\" \", header=None, index=False, encoding=\"utf-8\", quoting=3)\n"
   ]
  },
  {
   "cell_type": "markdown",
   "metadata": {},
   "source": [
    "# Scoring"
   ]
  },
  {
   "cell_type": "code",
   "execution_count": 7,
   "metadata": {},
   "outputs": [
    {
     "name": "stdout",
     "output_type": "stream",
     "text": [
      "ES:\n",
      "precision is: 0.6307977736549165\n",
      "recall is: 0.6307977736549165\n",
      "f1 score is: 0.6307977736549165\n",
      "RU:\n",
      "precision is: 0.6913036879647898\n",
      "recall is: 0.6913036879647898\n",
      "f1 score is: 0.6913036879647898\n"
     ]
    }
   ],
   "source": [
    "print(\"ES:\")\n",
    "p = precision(ES_dev_p1_out, ES_dev_out)\n",
    "r = recall(ES_dev_p1_out, ES_dev_out)\n",
    "f1 = f1_score(p, r)\n",
    "print(\"precision is:\", p)\n",
    "print(\"recall is:\",  r)\n",
    "print(\"f1 score is:\", f1)\n",
    "\n",
    "print(\"RU:\")\n",
    "p = precision(RU_dev_p1_out, RU_dev_out)\n",
    "r = recall(RU_dev_p1_out, RU_dev_out)\n",
    "f1 = f1_score(p, r)\n",
    "print(\"precision is:\", p)\n",
    "print(\"recall is:\",  r)\n",
    "print(\"f1 score is:\", f1)\n"
   ]
  },
  {
   "cell_type": "markdown",
   "metadata": {},
   "source": [
    "# "
   ]
  },
  {
   "cell_type": "markdown",
   "metadata": {},
   "source": [
    "# Question 2"
   ]
  },
  {
   "cell_type": "markdown",
   "metadata": {},
   "source": [
    "## Reading data + preprocessing"
   ]
  },
  {
   "cell_type": "code",
   "execution_count": 8,
   "metadata": {},
   "outputs": [],
   "source": [
    "with open('./ES/train', 'r', encoding = 'utf8') as f:\n",
    "    file = f.readlines()\n",
    "EStrain = [lines.rstrip(\"\\n\") for lines in file]\n",
    "EStrain_tup = [ (lines.rsplit(\" \", 1)[0], lines.rsplit(\" \", 1)[1]) if lines != \"\" else \"STOP\" for lines in EStrain ]\n",
    "\n",
    "with open('./RU/train', 'r', encoding = 'utf8') as f:\n",
    "    file = f.readlines()\n",
    "RUtrain = [lines.rstrip(\"\\n\") for lines in file]\n",
    "RUtrain_tup = [ (lines.rsplit(\" \", 1)[0], lines.rsplit(\" \", 1)[1]) if lines != \"\" else \"STOP\" for lines in RUtrain ]"
   ]
  },
  {
   "cell_type": "markdown",
   "metadata": {},
   "source": [
    "# Part 1 of q2"
   ]
  },
  {
   "cell_type": "markdown",
   "metadata": {},
   "source": [
    "## Creating reference transition dictionary (all transitions)"
   ]
  },
  {
   "cell_type": "code",
   "execution_count": 9,
   "metadata": {},
   "outputs": [],
   "source": [
    "transit_dict = {\n",
    "    (\"O\", \"O\"): 0,\n",
    "    (\"O\", \"B-positive\"):0,\n",
    "    (\"O\", \"B-negative\"):0,\n",
    "    (\"O\", \"B-neutral\"):0,\n",
    "    (\"O\", \"I-positive\"):0,\n",
    "    (\"O\", \"I-negative\"):0,\n",
    "    (\"O\", \"I-neutral\"):0,\n",
    "    (\"O\", \"START\"):0,\n",
    "    (\"O\", \"STOP\"):0,\n",
    "    \n",
    "    (\"B-positive\", \"O\"):0,\n",
    "    (\"B-positive\", \"B-positive\"):0,\n",
    "    (\"B-positive\", \"B-negative\"):0,\n",
    "    (\"B-positive\", \"B-neutral\"):0,\n",
    "    (\"B-positive\", \"I-positive\"):0,\n",
    "    (\"B-positive\", \"I-negative\"):0,\n",
    "    (\"B-positive\", \"I-neutral\"):0,\n",
    "    (\"B-positive\", \"START\"):0,\n",
    "    (\"B-positive\", \"STOP\"):0,\n",
    "    \n",
    "    \n",
    "    (\"B-negative\", \"O\"):0,\n",
    "    (\"B-negative\", \"B-positive\"):0,\n",
    "    (\"B-negative\", \"B-negative\"):0,\n",
    "    (\"B-negative\", \"B-neutral\"):0,\n",
    "    (\"B-negative\", \"I-positive\"):0,\n",
    "    (\"B-negative\", \"I-negative\"):0,\n",
    "    (\"B-negative\", \"I-neutral\"):0,\n",
    "    (\"B-negative\", \"START\"):0,\n",
    "    (\"B-negative\", \"STOP\"):0,\n",
    "    \n",
    "    (\"B-neutral\", \"O\"):0,\n",
    "    (\"B-neutral\", \"B-positive\"):0,\n",
    "    (\"B-neutral\", \"B-negative\"):0,\n",
    "    (\"B-neutral\", \"B-neutral\"):0,\n",
    "    (\"B-neutral\", \"I-positive\"):0,\n",
    "    (\"B-neutral\", \"I-negative\"):0,\n",
    "    (\"B-neutral\", \"I-neutral\"):0,\n",
    "    (\"B-neutral\", \"START\"):0,\n",
    "    (\"B-neutral\", \"STOP\"):0,\n",
    "    \n",
    "    (\"I-positive\", \"O\"):0,\n",
    "    (\"I-positive\", \"B-positive\"):0,\n",
    "    (\"I-positive\", \"B-negative\"):0,\n",
    "    (\"I-positive\", \"B-neutral\"):0,\n",
    "    (\"I-positive\", \"I-positive\"):0,\n",
    "    (\"I-positive\", \"I-negative\"):0,\n",
    "    (\"I-positive\", \"I-neutral\"):0,\n",
    "    (\"I-positive\", \"START\"):0,\n",
    "    (\"I-positive\", \"STOP\"):0,\n",
    "    \n",
    "    (\"I-negative\", \"O\"):0,\n",
    "    (\"I-negative\", \"B-positive\"):0,\n",
    "    (\"I-negative\", \"B-negative\"):0,\n",
    "    (\"I-negative\", \"B-neutral\"):0,\n",
    "    (\"I-negative\", \"I-positive\"):0,\n",
    "    (\"I-negative\", \"I-negative\"):0,\n",
    "    (\"I-negative\", \"I-neutral\"):0,\n",
    "    (\"I-negative\", \"START\"):0,\n",
    "    (\"I-negative\", \"STOP\"):0,\n",
    "    \n",
    "    (\"I-neutral\", \"O\"):0,\n",
    "    (\"I-neutral\", \"B-positive\"):0,\n",
    "    (\"I-neutral\", \"B-negative\"):0,\n",
    "    (\"I-neutral\", \"B-neutral\"):0,\n",
    "    (\"I-neutral\", \"I-positive\"):0,\n",
    "    (\"I-neutral\", \"I-negative\"):0,\n",
    "    (\"I-neutral\", \"I-neutral\"):0,\n",
    "    (\"I-neutral\", \"START\"):0,\n",
    "    (\"I-neutral\", \"STOP\"):0,\n",
    "    \n",
    "    (\"START\", \"O\"):0,\n",
    "    (\"START\", \"B-positive\"):0,\n",
    "    (\"START\", \"B-negative\"):0,\n",
    "    (\"START\", \"B-neutral\"):0,\n",
    "    (\"START\", \"I-positive\"):0,\n",
    "    (\"START\", \"I-negative\"):0,\n",
    "    (\"START\", \"I-neutral\"):0,\n",
    "    (\"START\", \"START\"):0,\n",
    "    (\"START\", \"STOP\"):0,\n",
    "    \n",
    "    (\"STOP\", \"O\"):0,\n",
    "    (\"STOP\", \"B-positive\"):0,\n",
    "    (\"STOP\", \"B-negative\"):0,\n",
    "    (\"STOP\", \"B-neutral\"):0,\n",
    "    (\"STOP\", \"I-positive\"):0,\n",
    "    (\"STOP\", \"I-negative\"):0,\n",
    "    (\"STOP\", \"I-neutral\"):0,\n",
    "    (\"STOP\", \"START\"):0,\n",
    "    (\"STOP\", \"STOP\"):0,\n",
    "               \n",
    "}"
   ]
  },
  {
   "cell_type": "markdown",
   "metadata": {},
   "source": [
    "## Function to calculate number of u (init state) to v (next state) transitions"
   ]
  },
  {
   "cell_type": "code",
   "execution_count": 10,
   "metadata": {},
   "outputs": [],
   "source": [
    "\"\"\"\n",
    "Assumptions made: \n",
    "\n",
    "1. Everything is in tuple pairs except the word \"STOP\" which signifies the end of a review\n",
    "2. Transition probabilities from \"STOP\" to any other states are 0 but still included in the dictionary as required by question\n",
    "\n",
    "\n",
    "\n",
    "Variables:\n",
    "1. u --> initial state (e.g \"O\", \"B-neutral\", \"I-positive\" etc.)\n",
    "2. v --> next state (e.g \"O\", \"B-neutral\", \"I-positive\" etc.)\n",
    "3. hasbreak --> signifies the end of a review (boolean)\n",
    "\n",
    "\"\"\"\n",
    "\n",
    "def calculate_transition(data, transit_dict):\n",
    "    updated_dict = transit_dict.copy()\n",
    "    hasbreak = True\n",
    "    for word in data:\n",
    "        if ( hasbreak == True ):\n",
    "            u = \"START\"\n",
    "            \n",
    "        if ( word != \"STOP\" and (hasbreak == True) ):\n",
    "            v = word[1]\n",
    "            updated_dict[(u, v)] += 1\n",
    "            hasbreak = False\n",
    "            \n",
    "        elif ( word != \"STOP\" and (hasbreak == False) ):\n",
    "            u = v\n",
    "            v = word[1]\n",
    "            updated_dict[(u, v)] += 1\n",
    "        \n",
    "        elif ( word == \"STOP\" ):\n",
    "            u = v\n",
    "            v = \"STOP\"\n",
    "            updated_dict[(u, v)] += 1\n",
    "            hasbreak = True\n",
    "            \n",
    "    return updated_dict"
   ]
  },
  {
   "cell_type": "markdown",
   "metadata": {},
   "source": [
    "## Update for ES and RU"
   ]
  },
  {
   "cell_type": "code",
   "execution_count": 11,
   "metadata": {},
   "outputs": [],
   "source": [
    "ES_updated_tdict = calculate_transition(EStrain_tup, transit_dict)\n",
    "RU_updated_tdict = calculate_transition(RUtrain_tup, transit_dict)"
   ]
  },
  {
   "cell_type": "markdown",
   "metadata": {},
   "source": [
    "## Function to convert above calculation to probability"
   ]
  },
  {
   "cell_type": "code",
   "execution_count": 12,
   "metadata": {},
   "outputs": [],
   "source": [
    "def transition_param(updated_tdict):\n",
    "    all_states = ['O', 'B-positive', 'B-negative', 'B-neutral', 'I-positive', 'I-negative', 'I-neutral', 'START', 'STOP']\n",
    "    q_dict = {}\n",
    "    temp_sum = 0\n",
    "    for state in all_states:\n",
    "        total = sum(value for key, value in updated_tdict.items() if key[1] == state)\n",
    "        for key, value in updated_tdict.items():\n",
    "            if ( (key[1] == state) and ( total != 0) ):\n",
    "                q_dict[f\"{state}|{key[0]}\"] = value/total\n",
    "            elif ( (key[1] == state) and ( total == 0) ):\n",
    "                q_dict[f\"{state}|{key[0]}\"] = 0\n",
    "    return q_dict"
   ]
  },
  {
   "cell_type": "markdown",
   "metadata": {},
   "source": [
    "## *Below is the final parameters to be used*"
   ]
  },
  {
   "cell_type": "markdown",
   "metadata": {},
   "source": [
    "*Format is v|u (next state given current state)*"
   ]
  },
  {
   "cell_type": "code",
   "execution_count": 75,
   "metadata": {},
   "outputs": [],
   "source": [
    "ES_transit = transition_param(ES_updated_tdict)\n",
    "RU_transit = transition_param(RU_updated_tdict)"
   ]
  },
  {
   "cell_type": "code",
   "execution_count": null,
   "metadata": {},
   "outputs": [],
   "source": []
  },
  {
   "cell_type": "code",
   "execution_count": null,
   "metadata": {},
   "outputs": [],
   "source": []
  }
 ],
 "metadata": {
  "kernelspec": {
   "display_name": "Python 3 (ipykernel)",
   "language": "python",
   "name": "python3"
  },
  "language_info": {
   "codemirror_mode": {
    "name": "ipython",
    "version": 3
   },
   "file_extension": ".py",
   "mimetype": "text/x-python",
   "name": "python",
   "nbconvert_exporter": "python",
   "pygments_lexer": "ipython3",
   "version": "3.11.4"
  }
 },
 "nbformat": 4,
 "nbformat_minor": 2
}
