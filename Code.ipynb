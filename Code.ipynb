{
 "cells": [
  {
   "cell_type": "markdown",
   "metadata": {},
   "source": [
    "#Group SOMETHING 1D ML project\n",
    "1. Loy Pek Yong 1004475\n",
    "\n",
    "\n",
    "#Part 1"
   ]
  },
  {
   "cell_type": "code",
   "execution_count": 1,
   "metadata": {},
   "outputs": [],
   "source": [
    "# import libraries\n",
    "import pandas as pd\n",
    "import numpy as np\n",
    "\n",
    "# read training data\n"
   ]
  },
  {
   "cell_type": "code",
   "execution_count": null,
   "metadata": {},
   "outputs": [],
   "source": [
    "\"\"\"Write a function that estimates the emission parameters from the training set using MLE (maximum\n",
    "likelihood estimation):\n",
    "\"\"\"\n",
    "def emission_param(training_set):\n",
    "# Count the number of occurrences of each label and each (label, observed value) pair\n",
    "    label_counts, emission_counts = {}, {}\n",
    "    \n",
    "    for observation, label in training_set:\n",
    "        if label not in label_counts:\n",
    "            label_counts[label] = 0\n",
    "        label_counts[label] += 1\n",
    "        if (label, observation) not in emission_counts:\n",
    "            emission_counts[(label, observation)] = 0\n",
    "        emission_counts[(label, observation)] += 1\n",
    "\n",
    "# Estimate the emission parameters from the counts\n",
    "    emission_param = {}\n",
    "    for label, observation in emission_counts:\n",
    "        emission_param[(label, observation)] = emission_counts[(label, observation)] / label_counts[label]\n",
    "    return emission_param\n"
   ]
  }
 ],
 "metadata": {
  "kernelspec": {
   "display_name": "base",
   "language": "python",
   "name": "python3"
  },
  "language_info": {
   "codemirror_mode": {
    "name": "ipython",
    "version": 3
   },
   "file_extension": ".py",
   "mimetype": "text/x-python",
   "name": "python",
   "nbconvert_exporter": "python",
   "pygments_lexer": "ipython3",
   "version": "3.8.8"
  },
  "orig_nbformat": 4
 },
 "nbformat": 4,
 "nbformat_minor": 2
}
